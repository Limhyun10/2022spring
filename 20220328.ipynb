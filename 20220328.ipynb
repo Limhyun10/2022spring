{
  "nbformat": 4,
  "nbformat_minor": 0,
  "metadata": {
    "colab": {
      "name": "20220328.ipynb",
      "provenance": [],
      "authorship_tag": "ABX9TyPW1YPZkDMfpBsfFUR2D3NQ",
      "include_colab_link": true
    },
    "kernelspec": {
      "name": "python3",
      "display_name": "Python 3"
    },
    "language_info": {
      "name": "python"
    }
  },
  "cells": [
    {
      "cell_type": "markdown",
      "metadata": {
        "id": "view-in-github",
        "colab_type": "text"
      },
      "source": [
        "<a href=\"https://colab.research.google.com/github/Limhyun10/2022spring/blob/main/20220328.ipynb\" target=\"_parent\"><img src=\"https://colab.research.google.com/assets/colab-badge.svg\" alt=\"Open In Colab\"/></a>"
      ]
    },
    {
      "cell_type": "code",
      "execution_count": null,
      "metadata": {
        "id": "oZWb30JiAGgg"
      },
      "outputs": [],
      "source": [
        "!pip install gradio\n",
        "import gradio as gr\n",
        "import requests\n",
        "import pandas as pd"
      ]
    },
    {
      "cell_type": "code",
      "source": [
        "URL = ('http://apis.data.go.kr/B552584/OzYlwsndOccrrncInforInqireSvc/'\n",
        "       'getOzAdvsryOccrrncInfo?'\n",
        "       'year=2020'\n",
        "       '&pageNo=1'\n",
        "       '&numOfRows=100'\n",
        "       '&returnType=json'\n",
        "       '&serviceKey=aXdOFhIvXpw0%2Bgoygn%2FwyK2cIne%2By0VytZ8W0bkYYety6IB1JvY6uxo0Ih9t%2FZ%2F%2Bo7t%2FLsWmnW6HjTB46F98mg%3D%3D')\n",
        "response = requests.get(URL)"
      ],
      "metadata": {
        "id": "JDt2E4ZjAOck"
      },
      "execution_count": null,
      "outputs": []
    },
    {
      "cell_type": "code",
      "source": [
        "r = response.json()\n",
        "r"
      ],
      "metadata": {
        "id": "Ep0fnQCYBsi8"
      },
      "execution_count": null,
      "outputs": []
    },
    {
      "cell_type": "code",
      "source": [
        "items = r['response']['body']['items']\n",
        "\n",
        "districtName = [item['districtName'] for item in items]\n",
        "clearTime = [item['clearTime'] for item in items]\n",
        "dataDate = [item['dataDate'] for item in items]\n",
        "issueVal = [item['issueVal'] for item in items]\n",
        "issueTime = [item['issueTime'] for item in items]\n",
        "maxVal = [item['maxVal'] for item in items]\n",
        "\n",
        "districtName = pd.Series(districtName)\n",
        "clearTime = pd.Series(clearTime)   \n",
        "dataDate = pd.Series(dataDate)\n",
        "issueVal = pd.Series(issueVal)\n",
        "issueTime = pd.Series(issueTime)\n",
        "maxVal = pd.Series(maxVal)\n",
        "\n",
        "df = pd.DataFrame({'districtName' : districtName, 'clearTime' : clearTime,'dataDate' : dataDate, 'issueVal' : issueVal, 'issueTime' : issueTime, 'maxVal' : maxVal})"
      ],
      "metadata": {
        "id": "BADEcRzEIEUi"
      },
      "execution_count": null,
      "outputs": []
    },
    {
      "cell_type": "code",
      "source": [
        "def test(monveName) :\n",
        "  URL = ('http://apis.data.go.kr/B552584/OzYlwsndOccrrncInforInqireSvc/'\n",
        "       'getOzAdvsryOccrrncInfo?'\n",
        "       'year=2020'\n",
        "       '&moveName='+moveName+\n",
        "       '&pageNo=1'\n",
        "       '&numOfRows=100'\n",
        "       '&returnType=json'\n",
        "       '&serviceKey=aXdOFhIvXpw0%2Bgoygn%2FwyK2cIne%2By0VytZ8W0bkYYety6IB1JvY6uxo0Ih9t%2FZ%2F%2Bo7t%2FLsWmnW6HjTB46F98mg%3D%3D')\n",
        "  \n",
        "  response = requests.get(URL)\n",
        "  r = response.json()\n",
        "  items = r['response']['body']['items']\n",
        "\n",
        "  districtName = [item['districtName'] for item in items]\n",
        "  clearTime = [item['clearTime'] for item in items]\n",
        "  dataDate = [item['dataDate'] for item in items]\n",
        "  issueVal = [item['issueVal'] for item in items]\n",
        "  issueTime = [item['issueTime'] for item in items]\n",
        "  maxVal = [item['maxVal'] for item in items]\n",
        "\n",
        "  df = pd.DataFrame({'districtName' : districtName, 'clearTime' : clearTime,'dataDate' : dataDate, 'issueVal' : issueVal, 'issueTime' : issueTime, 'maxVal' : maxVal})\n",
        "  return df"
      ],
      "metadata": {
        "id": "E6mKBlfSIf7m"
      },
      "execution_count": null,
      "outputs": []
    },
    {
      "cell_type": "code",
      "source": [
        "iface = gr.Interface(test, gr.inputs.Dropdown(['서산시','당진시','봉화군','광양시','여수시','제주권역','포항시','여수시','당진시','남해군','하동군','광양시','여수시','순천시','김해시','창원시 의창구·성산구','순천시','광양시','김해시','여수시','동구 전역','남부','남부','서부','김해시','중부','하동군','중부권','창원시 의창구·성산구','창원시 마산회원구·마산합포구','밀양시','양산시','동부','울주군','동부','남부권','동부','동구 전역','하동군','중구 전역','여수시','사천시','울주군','양산시','동구 전역','중부','남해군','남구 전역','동구 전역','남구 전역','하동군','동부권','남부','여수시','동북권','남구 전역','중부권','남부권','서산시','중부권','남부권','천안시','아산시','북부권','서산시','서부권역','동남부권역','중부권','순천시','남부권','동부권','광양시','서부권역','북부권','도심권','중부권','서북권','동남부권역','중부','남부','여수시','중부권','나주시','양산시','순천시','남구 전역','울주군','서산시','의성군','동부권','영천시','천안시','남부권','중부권','순천시','구미시','대구권역','동남권','북부권','세종권역']), outputs=['dataframe'])\n",
        "iface.launch(debug=True)"
      ],
      "metadata": {
        "id": "xsSn2Jb_JypN",
        "colab": {
          "base_uri": "https://localhost:8080/",
          "height": 1000
        },
        "outputId": "5808a2bf-9497-41b6-9170-72f594b1865a"
      },
      "execution_count": null,
      "outputs": [
        {
          "output_type": "stream",
          "name": "stdout",
          "text": [
            "Colab notebook detected. This cell will run indefinitely so that you can see errors and logs. To turn off, set debug=False in launch().\n",
            "Running on public URL: https://54849.gradio.app\n",
            "\n",
            "This share link expires in 72 hours. For free permanent hosting, check out Spaces (https://huggingface.co/spaces)\n"
          ]
        },
        {
          "output_type": "display_data",
          "data": {
            "text/plain": [
              "<IPython.lib.display.IFrame at 0x7fef4355d4d0>"
            ],
            "text/html": [
              "\n",
              "        <iframe\n",
              "            width=\"900\"\n",
              "            height=\"500\"\n",
              "            src=\"https://54849.gradio.app\"\n",
              "            frameborder=\"0\"\n",
              "            allowfullscreen\n",
              "        ></iframe>\n",
              "        "
            ]
          },
          "metadata": {}
        },
        {
          "output_type": "stream",
          "name": "stderr",
          "text": [
            "Traceback (most recent call last):\n",
            "  File \"/usr/local/lib/python3.7/dist-packages/gradio/routes.py\", line 269, in predict\n",
            "    output = await run_in_threadpool(app.launchable.process_api, body, username)\n",
            "  File \"/usr/local/lib/python3.7/dist-packages/starlette/concurrency.py\", line 39, in run_in_threadpool\n",
            "    return await anyio.to_thread.run_sync(func, *args)\n",
            "  File \"/usr/local/lib/python3.7/dist-packages/anyio/to_thread.py\", line 29, in run_sync\n",
            "    limiter=limiter)\n",
            "  File \"/usr/local/lib/python3.7/dist-packages/anyio/_backends/_asyncio.py\", line 818, in run_sync_in_worker_thread\n",
            "    return await future\n",
            "  File \"/usr/local/lib/python3.7/dist-packages/anyio/_backends/_asyncio.py\", line 754, in run\n",
            "    result = context.run(func, *args)\n",
            "  File \"/usr/local/lib/python3.7/dist-packages/gradio/interface.py\", line 573, in process_api\n",
            "    prediction, durations = self.process(raw_input)\n",
            "  File \"/usr/local/lib/python3.7/dist-packages/gradio/interface.py\", line 616, in process\n",
            "    processed_input, return_duration=True\n",
            "  File \"/usr/local/lib/python3.7/dist-packages/gradio/interface.py\", line 531, in run_prediction\n",
            "    prediction = predict_fn(*processed_input)\n",
            "  File \"<ipython-input-35-a270e31bbb17>\", line 5, in test\n",
            "    '&moveName='+moveName+\n",
            "TypeError: can only concatenate str (not \"list\") to str\n",
            "Traceback (most recent call last):\n",
            "  File \"/usr/local/lib/python3.7/dist-packages/gradio/routes.py\", line 269, in predict\n",
            "    output = await run_in_threadpool(app.launchable.process_api, body, username)\n",
            "  File \"/usr/local/lib/python3.7/dist-packages/starlette/concurrency.py\", line 39, in run_in_threadpool\n",
            "    return await anyio.to_thread.run_sync(func, *args)\n",
            "  File \"/usr/local/lib/python3.7/dist-packages/anyio/to_thread.py\", line 29, in run_sync\n",
            "    limiter=limiter)\n",
            "  File \"/usr/local/lib/python3.7/dist-packages/anyio/_backends/_asyncio.py\", line 818, in run_sync_in_worker_thread\n",
            "    return await future\n",
            "  File \"/usr/local/lib/python3.7/dist-packages/anyio/_backends/_asyncio.py\", line 754, in run\n",
            "    result = context.run(func, *args)\n",
            "  File \"/usr/local/lib/python3.7/dist-packages/gradio/interface.py\", line 573, in process_api\n",
            "    prediction, durations = self.process(raw_input)\n",
            "  File \"/usr/local/lib/python3.7/dist-packages/gradio/interface.py\", line 616, in process\n",
            "    processed_input, return_duration=True\n",
            "  File \"/usr/local/lib/python3.7/dist-packages/gradio/interface.py\", line 531, in run_prediction\n",
            "    prediction = predict_fn(*processed_input)\n",
            "  File \"<ipython-input-35-a270e31bbb17>\", line 5, in test\n",
            "    '&moveName='+moveName+\n",
            "TypeError: can only concatenate str (not \"list\") to str\n",
            "Traceback (most recent call last):\n",
            "  File \"/usr/local/lib/python3.7/dist-packages/gradio/routes.py\", line 269, in predict\n",
            "    output = await run_in_threadpool(app.launchable.process_api, body, username)\n",
            "  File \"/usr/local/lib/python3.7/dist-packages/starlette/concurrency.py\", line 39, in run_in_threadpool\n",
            "    return await anyio.to_thread.run_sync(func, *args)\n",
            "  File \"/usr/local/lib/python3.7/dist-packages/anyio/to_thread.py\", line 29, in run_sync\n",
            "    limiter=limiter)\n",
            "  File \"/usr/local/lib/python3.7/dist-packages/anyio/_backends/_asyncio.py\", line 818, in run_sync_in_worker_thread\n",
            "    return await future\n",
            "  File \"/usr/local/lib/python3.7/dist-packages/anyio/_backends/_asyncio.py\", line 754, in run\n",
            "    result = context.run(func, *args)\n",
            "  File \"/usr/local/lib/python3.7/dist-packages/gradio/interface.py\", line 573, in process_api\n",
            "    prediction, durations = self.process(raw_input)\n",
            "  File \"/usr/local/lib/python3.7/dist-packages/gradio/interface.py\", line 616, in process\n",
            "    processed_input, return_duration=True\n",
            "  File \"/usr/local/lib/python3.7/dist-packages/gradio/interface.py\", line 531, in run_prediction\n",
            "    prediction = predict_fn(*processed_input)\n",
            "  File \"<ipython-input-35-a270e31bbb17>\", line 5, in test\n",
            "    '&moveName='+moveName+\n",
            "TypeError: can only concatenate str (not \"list\") to str\n",
            "Traceback (most recent call last):\n",
            "  File \"/usr/local/lib/python3.7/dist-packages/gradio/routes.py\", line 269, in predict\n",
            "    output = await run_in_threadpool(app.launchable.process_api, body, username)\n",
            "  File \"/usr/local/lib/python3.7/dist-packages/starlette/concurrency.py\", line 39, in run_in_threadpool\n",
            "    return await anyio.to_thread.run_sync(func, *args)\n",
            "  File \"/usr/local/lib/python3.7/dist-packages/anyio/to_thread.py\", line 29, in run_sync\n",
            "    limiter=limiter)\n",
            "  File \"/usr/local/lib/python3.7/dist-packages/anyio/_backends/_asyncio.py\", line 818, in run_sync_in_worker_thread\n",
            "    return await future\n",
            "  File \"/usr/local/lib/python3.7/dist-packages/anyio/_backends/_asyncio.py\", line 754, in run\n",
            "    result = context.run(func, *args)\n",
            "  File \"/usr/local/lib/python3.7/dist-packages/gradio/interface.py\", line 573, in process_api\n",
            "    prediction, durations = self.process(raw_input)\n",
            "  File \"/usr/local/lib/python3.7/dist-packages/gradio/interface.py\", line 616, in process\n",
            "    processed_input, return_duration=True\n",
            "  File \"/usr/local/lib/python3.7/dist-packages/gradio/interface.py\", line 531, in run_prediction\n",
            "    prediction = predict_fn(*processed_input)\n",
            "  File \"<ipython-input-35-a270e31bbb17>\", line 5, in test\n",
            "    '&moveName='+moveName+\n",
            "TypeError: can only concatenate str (not \"list\") to str\n"
          ]
        },
        {
          "output_type": "stream",
          "name": "stdout",
          "text": [
            "Keyboard interruption in main thread... closing server.\n"
          ]
        },
        {
          "output_type": "execute_result",
          "data": {
            "text/plain": [
              "(<fastapi.applications.FastAPI at 0x7fef4d2a9650>,\n",
              " 'http://127.0.0.1:7860/',\n",
              " 'https://54849.gradio.app')"
            ]
          },
          "metadata": {},
          "execution_count": 37
        }
      ]
    },
    {
      "cell_type": "code",
      "source": [
        "items = r['response']['body']['items']\n",
        "items"
      ],
      "metadata": {
        "id": "m0glgy_dMT_E"
      },
      "execution_count": null,
      "outputs": []
    },
    {
      "cell_type": "code",
      "source": [
        "moveName = [item['moveName'] for item in items]\n",
        "moveName"
      ],
      "metadata": {
        "id": "uoo3MrypjXy-"
      },
      "execution_count": null,
      "outputs": []
    },
    {
      "cell_type": "markdown",
      "source": [
        ""
      ],
      "metadata": {
        "id": "JMCMJuglJihv"
      }
    },
    {
      "cell_type": "markdown",
      "source": [
        ""
      ],
      "metadata": {
        "id": "_aknZPVOJW-6"
      }
    }
  ]
}