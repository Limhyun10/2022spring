{
  "nbformat": 4,
  "nbformat_minor": 0,
  "metadata": {
    "colab": {
      "name": "requests.ipynb",
      "provenance": [],
      "authorship_tag": "ABX9TyPo5duypmF4r5cBtsJN/SVy",
      "include_colab_link": true
    },
    "kernelspec": {
      "name": "python3",
      "display_name": "Python 3"
    },
    "language_info": {
      "name": "python"
    }
  },
  "cells": [
    {
      "cell_type": "markdown",
      "metadata": {
        "id": "view-in-github",
        "colab_type": "text"
      },
      "source": [
        "<a href=\"https://colab.research.google.com/github/Limhyun10/2022spring/blob/main/requests.ipynb\" target=\"_parent\"><img src=\"https://colab.research.google.com/assets/colab-badge.svg\" alt=\"Open In Colab\"/></a>"
      ]
    },
    {
      "cell_type": "code",
      "source": [
        "import requests"
      ],
      "metadata": {
        "id": "8fa7zEQUMxgI"
      },
      "execution_count": null,
      "outputs": []
    },
    {
      "cell_type": "code",
      "execution_count": null,
      "metadata": {
        "id": "LmrKBzPkMnEL"
      },
      "outputs": [],
      "source": [
        "URL = ('http://apis.data.go.kr/B552584/OzYlwsndOccrrncInforInqireSvc/'\n",
        "       'getOzAdvsryOccrrncInfo?'\n",
        "       'year=2020'\n",
        "       '&pageNo=1'\n",
        "       '&numOfRows=100'\n",
        "       '&returnType=json' #요청URL에 XML이라고 나와있어도 상세설명 페이지에 json호출 시 returntype=json이라고 나와 있을 수 있음. \n",
        "       '&serviceKey=aXdOFhIvXpw0%2Bgoygn%2FwyK2cIne%2By0VytZ8W0bkYYety6IB1JvY6uxo0Ih9t%2FZ%2F%2Bo7t%2FLsWmnW6HjTB46F98mg%3D%3D')\n",
        "# 현재 본 데이터 파일은 json형식으로 나온 것이 아니라 json viewer에서 인식 불가\n",
        "response = requests.get(URL)"
      ]
    },
    {
      "cell_type": "code",
      "source": [
        "response"
      ],
      "metadata": {
        "colab": {
          "base_uri": "https://localhost:8080/"
        },
        "id": "IE8N_sFeM5vy",
        "outputId": "24e797e7-2892-4c1d-928c-b86f3ce9d272"
      },
      "execution_count": null,
      "outputs": [
        {
          "output_type": "execute_result",
          "data": {
            "text/plain": [
              "<Response [200]>"
            ]
          },
          "metadata": {},
          "execution_count": 49
        }
      ]
    },
    {
      "cell_type": "code",
      "source": [
        "r = response.json()\n",
        "r"
      ],
      "metadata": {
        "id": "UdLaYA8xM7XV"
      },
      "execution_count": null,
      "outputs": []
    },
    {
      "cell_type": "code",
      "source": [
        "items = r['response']['body']['items']"
      ],
      "metadata": {
        "id": "hQ7gWX9oWBQA"
      },
      "execution_count": null,
      "outputs": []
    },
    {
      "cell_type": "code",
      "source": [
        "import pandas as pd"
      ],
      "metadata": {
        "id": "mvmDB5sSZvmJ"
      },
      "execution_count": null,
      "outputs": []
    },
    {
      "cell_type": "code",
      "source": [
        "items = r['response']['body']['items']\n",
        "\n",
        "districtName = [item['districtName'] for item in items]\n",
        "issueTime = [item['issueTime'] for item in items]\n",
        "issueVal = [item['issueVal'] for item in items]\n",
        "maxVal = [item['maxVal'] for item in items]\n",
        "moveName = [item['moveName'] for item in items]\n",
        "sn = [item['sn'] for item in items]\n",
        "dataDate = [item['dataDate'] for item in items]\n",
        "\n",
        "districtName = pd.Series(districtName)\n",
        "issueTime = pd.Series(issueTime)\n",
        "issueVal = pd.Series(issueVal)\n",
        "maxVal = pd.Series(maxVal)\n",
        "moveName = pd.Series(moveName)\n",
        "sn = pd.Series(sn)\n",
        "dataDate = pd.Series(dataDate)\n",
        "\n",
        "\n",
        "df = pd.DataFrame({ 'districtName' : districtName, 'issueTime' : issueTime, 'issueVal' : issueVal, 'maxVal' : maxVal, 'moveName' : moveName, 'dataDate' : dataDate, 'sn' : sn})"
      ],
      "metadata": {
        "id": "EACUgO9oYDhV"
      },
      "execution_count": null,
      "outputs": []
    },
    {
      "cell_type": "code",
      "source": [
        "!pip install gradio\n",
        "import gradio as gr"
      ],
      "metadata": {
        "id": "6zP7kHkGbY5x"
      },
      "execution_count": null,
      "outputs": []
    },
    {
      "cell_type": "code",
      "source": [
        "def test(districtName):\n",
        "  URL = ('http://apis.data.go.kr/B552584/OzYlwsndOccrrncInforInqireSvc/'\n",
        "       'getOzAdvsryOccrrncInfo?'\n",
        "       'districtName='+districtName+\n",
        "       'year=2020'\n",
        "       '&pageNo=1'\n",
        "       '&numOfRows=100'\n",
        "       '&returnType=json' #요청URL에 XML이라고 나와있어도 상세설명 페이지에 json호출 시 returntype=json이라고 나와 있을 수 있음. \n",
        "       '&serviceKey=aXdOFhIvXpw0%2Bgoygn%2FwyK2cIne%2By0VytZ8W0bkYYety6IB1JvY6uxo0Ih9t%2FZ%2F%2Bo7t%2FLsWmnW6HjTB46F98mg%3D%3D')\n",
        "  \n",
        "  response = requests.get(URL)\n",
        "  r = response.json()\n",
        "  items = r['response']['body']['items']\n",
        "\n",
        "districtName = [item['districtName'] for item in items]\n",
        "issueTime = [item['issueTime'] for item in items]\n",
        "issueVal = [item['issueVal'] for item in items]\n",
        "maxVal = [item['maxVal'] for item in items]\n",
        "moveName = [item['moveName'] for item in items]\n",
        "sn = [item['sn'] for item in items]\n",
        "dataDate = [item['dataDate'] for item in items]\n",
        "\n",
        "districtName = pd.Series(districtName)\n",
        "issueTime = pd.Series(issueTime)\n",
        "issueVal = pd.Series(issueVal)\n",
        "maxVal = pd.Series(maxVal)\n",
        "moveName = pd.Series(moveName)\n",
        "sn = pd.Series(sn)\n",
        "dataDate = pd.Series(dataDate)\n",
        "\n",
        "\n",
        "df = pd.DataFrame({ 'districtName' : districtName, 'issueTime' : issueTime, 'issueVal' : issueVal, 'maxVal' : maxVal, 'moveName' : moveName, 'dataDate' : dataDate, 'sn' : sn})\n"
      ],
      "metadata": {
        "id": "uZ_QlOrDdKx6"
      },
      "execution_count": null,
      "outputs": []
    },
    {
      "cell_type": "code",
      "source": [
        "iface = gr.Interface(test, gr.inputs.Dropdown(['충남','충남','경북','전남','전남','제주','경북','전남','충남','경남', '경남','전남', '전남',\n",
        " '전남',\n",
        " '경남',\n",
        " '경남',\n",
        " '전남',\n",
        " '전남',\n",
        " '경남',\n",
        " '전남',\n",
        " '울산',\n",
        " '부산',\n",
        " '부산',\n",
        " '부산',\n",
        " '경남',\n",
        " '부산',\n",
        " '경남',\n",
        " '경기',\n",
        " '경남',\n",
        " '경남',\n",
        " '경남',\n",
        " '경남',\n",
        " '부산',\n",
        " '울산',\n",
        " '부산',\n",
        " '경기',\n",
        " '부산',\n",
        " '울산',\n",
        " '경남',\n",
        " '울산',\n",
        " '전남',\n",
        " '경남',\n",
        " '울산',\n",
        " '경남',\n",
        " '울산',\n",
        " '부산',\n",
        " '경남',\n",
        " '울산',\n",
        " '울산',\n",
        " '울산',\n",
        " '경남',\n",
        " '경기',\n",
        " '부산',\n",
        " '전남',\n",
        " '서울',\n",
        " '울산',\n",
        " '경기',\n",
        " '경기',\n",
        " '충남',\n",
        " '경기',\n",
        " '경기',\n",
        " '충남',\n",
        " '충남',\n",
        " '경기',\n",
        " '충남',\n",
        " '인천',\n",
        " '인천',\n",
        " '경기',\n",
        " '전남',\n",
        " '경기',\n",
        " '경기',\n",
        " '전남',\n",
        " '인천',\n",
        " '경기',\n",
        " '서울',\n",
        " '경기',\n",
        " '서울',\n",
        " '인천',\n",
        " '부산',\n",
        " '부산',\n",
        " '전남',\n",
        " '경기',\n",
        " '전남',\n",
        " '경남',\n",
        " '전남',\n",
        " '울산',\n",
        " '울산',\n",
        " '충남',\n",
        " '경북',\n",
        " '경기',\n",
        " '경북',\n",
        " '충남',\n",
        " '경기',\n",
        " '경기',\n",
        " '전남',\n",
        " '경북',\n",
        " '대구',\n",
        " '서울',\n",
        " '경기',\n",
        " '세종']), outputs=['dataframe'])\n",
        "iface.launch(debug=True"
      ],
      "metadata": {
        "id": "IV0rcZT3cS21"
      },
      "execution_count": null,
      "outputs": []
    },
    {
      "cell_type": "code",
      "source": [
        "districtName = [item['districtName'] for item in items]\n",
        "districtName\n"
      ],
      "metadata": {
        "id": "y3JD9lhIf8cc"
      },
      "execution_count": null,
      "outputs": []
    }
  ]
}