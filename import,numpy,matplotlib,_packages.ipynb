{
  "nbformat": 4,
  "nbformat_minor": 0,
  "metadata": {
    "colab": {
      "name": "import,numpy,matplotlib, packages.ipynb",
      "provenance": [],
      "authorship_tag": "ABX9TyM9QSVdcXr9QwiaL5RAzXtz",
      "include_colab_link": true
    },
    "kernelspec": {
      "name": "python3",
      "display_name": "Python 3"
    },
    "language_info": {
      "name": "python"
    }
  },
  "cells": [
    {
      "cell_type": "markdown",
      "metadata": {
        "id": "view-in-github",
        "colab_type": "text"
      },
      "source": [
        "<a href=\"https://colab.research.google.com/github/Limhyun10/2022spring/blob/main/import%2Cnumpy%2Cmatplotlib%2C_packages.ipynb\" target=\"_parent\"><img src=\"https://colab.research.google.com/assets/colab-badge.svg\" alt=\"Open In Colab\"/></a>"
      ]
    },
    {
      "cell_type": "code",
      "source": [
        "#imstall, import, built-in -> 이미 유명한 것들은 이미 인스톨 되어 있기에 import로 불러오는 작업임.\n",
        "# "
      ],
      "metadata": {
        "id": "9GoeOB0Phj7a"
      },
      "execution_count": null,
      "outputs": []
    },
    {
      "cell_type": "code",
      "execution_count": 11,
      "metadata": {
        "id": "lf5bRAFAgB1g"
      },
      "outputs": [],
      "source": [
        "import numpy as np\n",
        "n = np.random.randn(100)\n",
        "# np.random.randn()-> 랜덤한 숫자 5개를 불러와라는 명령어\n",
        "# numpy의 random이라는 폴더의 randn이라는 디렉토리를 불러와라"
      ]
    },
    {
      "cell_type": "markdown",
      "source": [
        ""
      ],
      "metadata": {
        "id": "BUxPVIyE-Wcw"
      }
    },
    {
      "cell_type": "code",
      "source": [
        "import matplotlib\n",
        "matplotlib.pyplot.hist(n)\n",
        "#불러온 난수를 시각화해주는 도구 matplotlib.pyplot.hist()\n",
        "#0을 mean 값 표준편차 1"
      ],
      "metadata": {
        "colab": {
          "base_uri": "https://localhost:8080/",
          "height": 356
        },
        "id": "A9f8RJ1k_Qac",
        "outputId": "38a36100-2143-44cf-ea5b-8106513b6344"
      },
      "execution_count": 12,
      "outputs": [
        {
          "output_type": "execute_result",
          "data": {
            "text/plain": [
              "(array([ 3.,  3.,  5.,  7., 11., 25., 23., 12.,  7.,  4.]),\n",
              " array([-2.37701254, -1.9532241 , -1.52943566, -1.10564723, -0.68185879,\n",
              "        -0.25807035,  0.16571809,  0.58950653,  1.01329497,  1.43708341,\n",
              "         1.86087185]),\n",
              " <a list of 10 Patch objects>)"
            ]
          },
          "metadata": {},
          "execution_count": 12
        },
        {
          "output_type": "display_data",
          "data": {
            "text/plain": [
              "<Figure size 432x288 with 1 Axes>"
            ],
            "image/png": "[encoded data removed]"
          },
          "metadata": {
            "needs_background": "light"
          }
        }
      ]
    },
    {
      "cell_type": "code",
      "source": [
        "import matplotlib.pyplot as plt #줄여버리기! 줄임말 1탄\n",
        "plt.hist(n)"
      ],
      "metadata": {
        "colab": {
          "base_uri": "https://localhost:8080/",
          "height": 356
        },
        "id": "cqtJb-nbAnxm",
        "outputId": "27a97fe5-1e47-4e7f-adfb-8973974a6357"
      },
      "execution_count": 13,
      "outputs": [
        {
          "output_type": "execute_result",
          "data": {
            "text/plain": [
              "(array([ 3.,  3.,  5.,  7., 11., 25., 23., 12.,  7.,  4.]),\n",
              " array([-2.37701254, -1.9532241 , -1.52943566, -1.10564723, -0.68185879,\n",
              "        -0.25807035,  0.16571809,  0.58950653,  1.01329497,  1.43708341,\n",
              "         1.86087185]),\n",
              " <a list of 10 Patch objects>)"
            ]
          },
          "metadata": {},
          "execution_count": 13
        },
        {
          "output_type": "display_data",
          "data": {
            "text/plain": [
              "<Figure size 432x288 with 1 Axes>"
            ],
            "image/png": "[encoded data removed]"
          },
          "metadata": {
            "needs_background": "light"
          }
        }
      ]
    },
    {
      "cell_type": "code",
      "source": [
        "from matplotlib import pyplot\n",
        "pyplot.hist(n)\n",
        "#from을 사용해서 하위 디렉토리 지정하기"
      ],
      "metadata": {
        "colab": {
          "base_uri": "https://localhost:8080/",
          "height": 356
        },
        "id": "ZyxcKY_0BFWX",
        "outputId": "d54e3f2e-d34b-447d-bbc3-fcb3c2548b72"
      },
      "execution_count": 15,
      "outputs": [
        {
          "output_type": "execute_result",
          "data": {
            "text/plain": [
              "(array([ 3.,  3.,  5.,  7., 11., 25., 23., 12.,  7.,  4.]),\n",
              " array([-2.37701254, -1.9532241 , -1.52943566, -1.10564723, -0.68185879,\n",
              "        -0.25807035,  0.16571809,  0.58950653,  1.01329497,  1.43708341,\n",
              "         1.86087185]),\n",
              " <a list of 10 Patch objects>)"
            ]
          },
          "metadata": {},
          "execution_count": 15
        },
        {
          "output_type": "display_data",
          "data": {
            "text/plain": [
              "<Figure size 432x288 with 1 Axes>"
            ],
            "image/png": "[encoded data removed]"
          },
          "metadata": {
            "needs_background": "light"
          }
        }
      ]
    },
    {
      "cell_type": "code",
      "source": [
        "#ndarray 만들기 = matrices\n",
        "import numpy as np\n",
        "#matrix는 직사각형의 숫자 행렬, 2차원일 수도 있고 3차원일수도 있음 \n",
        "#ndarray 는 n-dimensional array 즉 차원을 알려줌."
      ],
      "metadata": {
        "id": "Oc4mw8QEBgzg"
      },
      "execution_count": 1,
      "outputs": []
    },
    {
      "cell_type": "code",
      "source": [
        "x = np.array([1,2,3])\n",
        "print(x)\n",
        "print(type(x))\n",
        "print(x.shape) #(3,)는 3개짜리 1darray를 알려주는 것"
      ],
      "metadata": {
        "colab": {
          "base_uri": "https://localhost:8080/"
        },
        "id": "uYKJPPMLBqmH",
        "outputId": "9b25ac97-0c99-4330-f799-618490bd9a1a"
      },
      "execution_count": 2,
      "outputs": [
        {
          "output_type": "stream",
          "name": "stdout",
          "text": [
            "[1 2 3]\n",
            "<class 'numpy.ndarray'>\n",
            "(3,)\n"
          ]
        }
      ]
    },
    {
      "cell_type": "code",
      "source": [
        "x = np.arange(0,10,2) #0에서 10-1까지 2의 increment로 리스트를 나열하라\n",
        "print (x)\n",
        "print(type(x)) #array나 arange나 타입은 다 numpy.ndarray\n",
        "print(x.shape) #-2468의 아이템을 가진 1d array (5,)"
      ],
      "metadata": {
        "colab": {
          "base_uri": "https://localhost:8080/"
        },
        "id": "VCC9rkjZC6c_",
        "outputId": "77da9537-84c3-4f38-f9f7-a3584624a93b"
      },
      "execution_count": 4,
      "outputs": [
        {
          "output_type": "stream",
          "name": "stdout",
          "text": [
            "[0 2 4 6 8]\n",
            "<class 'numpy.ndarray'>\n",
            "(5,)\n"
          ]
        }
      ]
    },
    {
      "cell_type": "code",
      "source": [
        "x = np.linspace(0,10,6) #0부터 10까지 균등한 간격으로 6개를 만들어라\n",
        "print(x)\n",
        "print(type(x))\n",
        "print(x.shape)"
      ],
      "metadata": {
        "colab": {
          "base_uri": "https://localhost:8080/"
        },
        "id": "k_PvS2GZDiXB",
        "outputId": "5f44cff9-8600-4a78-dc81-7504fab2dba0"
      },
      "execution_count": 6,
      "outputs": [
        {
          "output_type": "stream",
          "name": "stdout",
          "text": [
            "[ 0.  2.  4.  6.  8. 10.]\n",
            "<class 'numpy.ndarray'>\n",
            "(6,)\n"
          ]
        }
      ]
    },
    {
      "cell_type": "code",
      "source": [
        "x = np.array([[1,2,3], [4,5,6]]) #123\n",
        "                                 #456 의 2darray의 형태를 가짐 \n",
        "                                 #따라서 2개의 행 3개의 각각 열 속의 아이템 (2,3)\n",
        "print(x)\n",
        "print(type(x))\n",
        "print(x.shape)"
      ],
      "metadata": {
        "colab": {
          "base_uri": "https://localhost:8080/"
        },
        "id": "pYV3fs3xD-sS",
        "outputId": "9321e29d-b54b-4b81-acbd-bcae94c35a42"
      },
      "execution_count": 7,
      "outputs": [
        {
          "output_type": "stream",
          "name": "stdout",
          "text": [
            "[[1 2 3]\n",
            " [4 5 6]]\n",
            "<class 'numpy.ndarray'>\n",
            "(2, 3)\n"
          ]
        }
      ]
    },
    {
      "cell_type": "code",
      "source": [
        "x = np.array([[[1,2,3,], [4,5,6]], [[7,8,9], [10,11,12]]])\n",
        "print(x) #3d array의 모습이 나옴 \n",
        "print(type(x))\n",
        "print(x.shape) #2,2,3에서 첫 번째 2는 123456과 789101112의 큰 두 덩어리\n",
        "              #두 번째 2는 123, 456 과 같은 두 덩어리\n",
        "              #세 번째 3은 각 리스트 속의 아이템 수"
      ],
      "metadata": {
        "colab": {
          "base_uri": "https://localhost:8080/"
        },
        "id": "wITJVlb7Ex3k",
        "outputId": "afe5e86b-f3e9-4188-ea6f-c08a92431a18"
      },
      "execution_count": 8,
      "outputs": [
        {
          "output_type": "stream",
          "name": "stdout",
          "text": [
            "[[[ 1  2  3]\n",
            "  [ 4  5  6]]\n",
            "\n",
            " [[ 7  8  9]\n",
            "  [10 11 12]]]\n",
            "<class 'numpy.ndarray'>\n",
            "(2, 2, 3)\n"
          ]
        }
      ]
    },
    {
      "cell_type": "code",
      "source": [
        "x = np.ones([2,2,3])\n",
        "#1들로 ndarray인지 확인하는 작업\n",
        "print(x)"
      ],
      "metadata": {
        "colab": {
          "base_uri": "https://localhost:8080/"
        },
        "id": "zIkZ7KfPFn6S",
        "outputId": "f768c40a-5ffd-4a7c-934f-9fcf86c5af50"
      },
      "execution_count": 10,
      "outputs": [
        {
          "output_type": "stream",
          "name": "stdout",
          "text": [
            "[[[1. 1. 1.]\n",
            "  [1. 1. 1.]]\n",
            "\n",
            " [[1. 1. 1.]\n",
            "  [1. 1. 1.]]]\n"
          ]
        }
      ]
    },
    {
      "cell_type": "code",
      "source": [
        "x = np.random.normal(0,1,[2,3,4]) #mean값, standard diviation [2,3,4]의 형태로 만들어라 \n",
        "print(x)"
      ],
      "metadata": {
        "colab": {
          "base_uri": "https://localhost:8080/"
        },
        "id": "9bAglBGmMiHv",
        "outputId": "92b1d963-65c8-4a2f-b826-245db8188aaf"
      },
      "execution_count": 11,
      "outputs": [
        {
          "output_type": "execute_result",
          "data": {
            "text/plain": [
              "array([[[ 0.47755174,  0.00998681,  0.78355735,  1.17245774],\n",
              "        [ 1.82172317,  0.86376643,  0.61026973, -0.60507216],\n",
              "        [-0.13790011, -0.66528123, -1.81001867, -0.06978493]],\n",
              "\n",
              "       [[ 0.08522264,  1.35685919,  0.6924534 , -0.13347838],\n",
              "        [-0.45747649,  1.51017621,  0.0288801 , -0.48277884],\n",
              "        [ 0.58317484, -1.74931111, -0.76152739,  1.6112892 ]]])"
            ]
          },
          "metadata": {},
          "execution_count": 11
        }
      ]
    },
    {
      "cell_type": "code",
      "source": [
        "import matplotlib.pyplot as plt"
      ],
      "metadata": {
        "id": "_t8c1kVPNrnA"
      },
      "execution_count": 14,
      "outputs": []
    },
    {
      "cell_type": "code",
      "source": [
        "x = np.random.normal(0,1,100) #1darray짜리 100개의 아이템을 나열해라\n",
        "plt.hist(x, bins=10) #bins는 통의 개수를 얘기함 밑에 그래프에서 통이 총 10개"
      ],
      "metadata": {
        "id": "lszDeAcnNIha"
      },
      "execution_count": null,
      "outputs": []
    },
    {
      "cell_type": "code",
      "source": [
        "#numpy를 가지고 사인곡선 만들어 보기"
      ],
      "metadata": {
        "id": "TqcWRmtjOSgZ"
      },
      "execution_count": null,
      "outputs": []
    },
    {
      "cell_type": "code",
      "source": [
        "plt.figure()\n",
        "\n",
        "theta1 = np.linspace(0, 2*np.pi, 100)\n",
        "s1 = np.sin(theta1)\n",
        "theta2 = np.linspace(0, 2*np.pi, 100) + np.pi/2\n",
        "s2 = np.sin(theta2)\n",
        "\n",
        "plt.subplot(2,1,1)\n",
        "plt.plot(theta1, s1, '-')"
      ],
      "metadata": {
        "colab": {
          "base_uri": "https://localhost:8080/",
          "height": 165
        },
        "id": "hSFLgMwyObWc",
        "outputId": "e00ca7b7-60f7-45a2-c9bb-2c083961cde8"
      },
      "execution_count": 23,
      "outputs": [
        {
          "output_type": "execute_result",
          "data": {
            "text/plain": [
              "[<matplotlib.lines.Line2D at 0x7f12b6e75fd0>]"
            ]
          },
          "metadata": {},
          "execution_count": 23
        },
        {
          "output_type": "display_data",
          "data": {
            "text/plain": [
              "<Figure size 432x288 with 1 Axes>"
            ],
            "image/png": "[encoded data removed]"
          },
          "metadata": {
            "needs_background": "light"
          }
        }
      ]
    },
    {
      "cell_type": "code",
      "source": [
        "#correlation -> -1<=r<=1 양은 정비례 음은 반비례 \n",
        "#상관관계가 높을 수록 r의 절대값이 1에 가까워진다\n",
        "np.corrcoef(s1,s2)"
      ],
      "metadata": {
        "colab": {
          "base_uri": "https://localhost:8080/"
        },
        "id": "Pv4W8qkZQZOn",
        "outputId": "2148e68b-1980-4c33-d19c-90b61e4c9bba"
      },
      "execution_count": 25,
      "outputs": [
        {
          "output_type": "execute_result",
          "data": {
            "text/plain": [
              "array([[1.00000000e+00, 2.41915449e-17],\n",
              "       [2.41915449e-17, 1.00000000e+00]])"
            ]
          },
          "metadata": {},
          "execution_count": 25
        }
      ]
    }
  ]
}