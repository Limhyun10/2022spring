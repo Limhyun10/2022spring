{
  "nbformat": 4,
  "nbformat_minor": 0,
  "metadata": {
    "colab": {
      "name": "20220509.ipynb",
      "provenance": [],
      "authorship_tag": "ABX9TyNMg5LcFxVqCUOWRFuQ1UUU",
      "include_colab_link": true
    },
    "kernelspec": {
      "name": "python3",
      "display_name": "Python 3"
    },
    "language_info": {
      "name": "python"
    }
  },
  "cells": [
    {
      "cell_type": "markdown",
      "metadata": {
        "id": "view-in-github",
        "colab_type": "text"
      },
      "source": [
        "<a href=\"https://colab.research.google.com/github/Limhyun10/2022spring/blob/main/20220509.ipynb\" target=\"_parent\"><img src=\"https://colab.research.google.com/assets/colab-badge.svg\" alt=\"Open In Colab\"/></a>"
      ]
    },
    {
      "cell_type": "code",
      "execution_count": null,
      "metadata": {
        "id": "EchVQvXN7nVy"
      },
      "outputs": [],
      "source": [
        "import re\n",
        "import os\n",
        "url = \"https://raw.githubusercontent.com/hsnam95/my/main/friends_season01_script.txt\"\n",
        "os.system(\"curl \" + url + \" > friends_season01_script.txt\")"
      ]
    },
    {
      "cell_type": "code",
      "source": [
        "file = open(\"friends_season01_script.txt\")\n",
        "text = file.read()\n",
        "file.close()\n",
        "text"
      ],
      "metadata": {
        "id": "97k8PlcU7yfU"
      },
      "execution_count": null,
      "outputs": []
    },
    {
      "cell_type": "code",
      "source": [
        "type(text), len(text)"
      ],
      "metadata": {
        "colab": {
          "base_uri": "https://localhost:8080/"
        },
        "id": "dKdIFZiA8Aw0",
        "outputId": "549b2f58-6923-44a4-ed6a-dc1375a1e8ca"
      },
      "execution_count": 52,
      "outputs": [
        {
          "output_type": "execute_result",
          "data": {
            "text/plain": [
              "(str, 356294)"
            ]
          },
          "metadata": {},
          "execution_count": 52
        }
      ]
    },
    {
      "cell_type": "code",
      "source": [
        "text = re.sub('Ross :', '2018130930', text)"
      ],
      "metadata": {
        "id": "JMgAk8AfI8AE"
      },
      "execution_count": 64,
      "outputs": []
    },
    {
      "cell_type": "code",
      "source": [
        "pattern = '(?<=R).+(?=[\\.|\\?|\\!])'\n",
        "sent = re.findall(pattern, text)\n",
        "sent\n",
        "#text = '\\n'.join(sent)\n"
      ],
      "metadata": {
        "id": "YpQmkOof8Hp8"
      },
      "execution_count": null,
      "outputs": []
    },
    {
      "cell_type": "code",
      "source": [
        "file = open(\"20220509.txt\", \"w\")\n",
        "file.write(text)\n",
        "file.close"
      ],
      "metadata": {
        "id": "HOmaXfCnE8hn"
      },
      "execution_count": null,
      "outputs": []
    }
  ]
}